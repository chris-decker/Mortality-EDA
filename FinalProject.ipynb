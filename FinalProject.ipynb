{
 "cells": [
  {
   "cell_type": "markdown",
   "metadata": {},
   "source": [
    "### Chris Decker\n",
    "\n",
    "### CS544 – Final Project"
   ]
  },
  {
   "cell_type": "code",
   "execution_count": 71,
   "metadata": {},
   "outputs": [],
   "source": [
    "# Turn off warnings\n",
    "options(warn=-1)\n",
    "\n",
    "# Set working directory to path with CSV:\n",
    "filename = \"Hospital_Value-Based_Purchasing__HVBP____Clinical_Care_Domain_Scores.csv\"\n",
    "filepath = file.choose()\n",
    "dir = substr(filepath, 1, nchar(filepath) - nchar(filename))\n",
    "setwd(dir)\n",
    "\n",
    "# Import Data:\n",
    "cms <- read.csv(\"Hospital_Value-Based_Purchasing__HVBP____Clinical_Care_Domain_Scores.csv\", \n",
    "    stringsAsFactors = FALSE)\n",
    "\n",
    "# Preprocess data. Convert all percentage rates to numerical. Coerce to NA if not\n",
    "# a number.\n",
    "cmsnames <- names(cms)\n",
    "numericcols <- cmsnames[grepl(\"MORT\", cmsnames, fixed = T) & !(grepl(\"Points\", cmsnames, \n",
    "    fixed = T) | grepl(\"Score\", cmsnames, fixed = T))]\n",
    "for (i in numericcols) {\n",
    "    cms[[i]] = as.numeric(cms[[i]])\n",
    "}\n",
    "\n",
    "# Set dataframe view parameters\n",
    "options(repr.matrix.max.cols = 50, repr.matrix.max.rows = 100)\n",
    "\n",
    "# Load libraries\n",
    "library(plotly)\n",
    "\n",
    "# Plotly credentials\n",
    "Sys.setenv(\"plotly_username\"=\"djzero\")\n",
    "Sys.setenv(\"plotly_api_key\"=\"cEOuanVkoeD7BpVhJ10c\")"
   ]
  },
  {
   "cell_type": "markdown",
   "metadata": {},
   "source": [
    "# Performance of Hospitals against Clinical Care metrics for Medicare Value-Based Purchasing Program"
   ]
  },
  {
   "cell_type": "markdown",
   "metadata": {},
   "source": [
    "### Background:  \n",
    "Medicare is the largest Healthcare Payor in the US. The Centers for Medicare & Medicaid Services (CMS) developed the Value-Based Purchasing program in order to incentivize positive patient outcome.\n",
    "For hospitals, there are 4 categories for which performance is measured:\n",
    "<BR><BR>\n",
    "    \n",
    "![Domain Table](domaintable.png)\n",
    "Source: [Centers for Medicare & Medicaid Services - HOSPITAL VALUE-BASED PURCHASING ](https://www.cms.gov/Outreach-and-Education/Medicare-Learning-Network-MLN/MLNProducts/downloads/Hospital_VBPurchasing_Fact_Sheet_ICN907664.pdf)\n",
    "    \n",
    "The following analyses will be focusing on the Clinical Care aspect of this program. In order to quantify Clinical Care hospital performance, CMS measures mortality rates for patients being treated for the following 3 conditions:\n",
    "- Acute Myocardial Infarction (heart attack)\n",
    "- Heart Failure\n",
    "- Pneumonia  \n",
    "\n",
    "Essentially, the less likely it is for a patient to die when visiting a given hospital with one of these conditions, the better the hospital is compensated for all Medicare-reimbursed visits.\n"
   ]
  },
  {
   "cell_type": "markdown",
   "metadata": {},
   "source": [
    "### How it works:  \n",
    "For each hospital, a baseline rate is established in a prior period. The hospital is then scored based on its performance against this baseline, the national benchmark rate, and the national achievement threshold.\n",
    "<BR><BR>\n",
    "    \n",
    "![Rates](rates.png)"
   ]
  },
  {
   "cell_type": "code",
   "execution_count": 72,
   "metadata": {},
   "outputs": [
    {
     "data": {
      "text/html": [
       "<table>\n",
       "<thead><tr><th scope=col>Hospital.Name</th><th scope=col>MORT.30.AMI.Achievement.Threshold</th><th scope=col>MORT.30.AMI.Benchmark</th><th scope=col>MORT.30.AMI.Baseline.Rate</th><th scope=col>MORT.30.AMI.Performance.Rate</th></tr></thead>\n",
       "<tbody>\n",
       "\t<tr><td>MARSHALL MEDICAL CENTER SOUTH             </td><td>0.850916                                  </td><td>0.873053                                  </td><td>0.836946                                  </td><td>0.857280                                  </td></tr>\n",
       "\t<tr><td>DEKALB REGIONAL MEDICAL CENTER            </td><td>0.850916                                  </td><td>0.873053                                  </td><td>0.840641                                  </td><td>0.842346                                  </td></tr>\n",
       "\t<tr><td>CRESTWOOD MEDICAL CENTER                  </td><td>0.850916                                  </td><td>0.873053                                  </td><td>0.868536                                  </td><td>0.874347                                  </td></tr>\n",
       "\t<tr><td>FORT DEFIANCE INDIAN HOSPITAL             </td><td>0.850916                                  </td><td>0.873053                                  </td><td>0.850559                                  </td><td>0.863356                                  </td></tr>\n",
       "\t<tr><td>TUBA CITY REGIONAL HEALTH CARE CORPORATION</td><td>0.850916                                  </td><td>0.873053                                  </td><td>0.853278                                  </td><td>0.864334                                  </td></tr>\n",
       "\t<tr><td>CHINLE COMPREHENSIVE HEALTH CARE FACILITY </td><td>0.850916                                  </td><td>0.873053                                  </td><td>0.857041                                  </td><td>0.868165                                  </td></tr>\n",
       "</tbody>\n",
       "</table>\n"
      ],
      "text/latex": [
       "\\begin{tabular}{r|lllll}\n",
       " Hospital.Name & MORT.30.AMI.Achievement.Threshold & MORT.30.AMI.Benchmark & MORT.30.AMI.Baseline.Rate & MORT.30.AMI.Performance.Rate\\\\\n",
       "\\hline\n",
       "\t MARSHALL MEDICAL CENTER SOUTH              & 0.850916                                   & 0.873053                                   & 0.836946                                   & 0.857280                                  \\\\\n",
       "\t DEKALB REGIONAL MEDICAL CENTER             & 0.850916                                   & 0.873053                                   & 0.840641                                   & 0.842346                                  \\\\\n",
       "\t CRESTWOOD MEDICAL CENTER                   & 0.850916                                   & 0.873053                                   & 0.868536                                   & 0.874347                                  \\\\\n",
       "\t FORT DEFIANCE INDIAN HOSPITAL              & 0.850916                                   & 0.873053                                   & 0.850559                                   & 0.863356                                  \\\\\n",
       "\t TUBA CITY REGIONAL HEALTH CARE CORPORATION & 0.850916                                   & 0.873053                                   & 0.853278                                   & 0.864334                                  \\\\\n",
       "\t CHINLE COMPREHENSIVE HEALTH CARE FACILITY  & 0.850916                                   & 0.873053                                   & 0.857041                                   & 0.868165                                  \\\\\n",
       "\\end{tabular}\n"
      ],
      "text/markdown": [
       "\n",
       "Hospital.Name | MORT.30.AMI.Achievement.Threshold | MORT.30.AMI.Benchmark | MORT.30.AMI.Baseline.Rate | MORT.30.AMI.Performance.Rate | \n",
       "|---|---|---|---|---|---|\n",
       "| MARSHALL MEDICAL CENTER SOUTH              | 0.850916                                   | 0.873053                                   | 0.836946                                   | 0.857280                                   | \n",
       "| DEKALB REGIONAL MEDICAL CENTER             | 0.850916                                   | 0.873053                                   | 0.840641                                   | 0.842346                                   | \n",
       "| CRESTWOOD MEDICAL CENTER                   | 0.850916                                   | 0.873053                                   | 0.868536                                   | 0.874347                                   | \n",
       "| FORT DEFIANCE INDIAN HOSPITAL              | 0.850916                                   | 0.873053                                   | 0.850559                                   | 0.863356                                   | \n",
       "| TUBA CITY REGIONAL HEALTH CARE CORPORATION | 0.850916                                   | 0.873053                                   | 0.853278                                   | 0.864334                                   | \n",
       "| CHINLE COMPREHENSIVE HEALTH CARE FACILITY  | 0.850916                                   | 0.873053                                   | 0.857041                                   | 0.868165                                   | \n",
       "\n",
       "\n"
      ],
      "text/plain": [
       "  Hospital.Name                              MORT.30.AMI.Achievement.Threshold\n",
       "1 MARSHALL MEDICAL CENTER SOUTH              0.850916                         \n",
       "2 DEKALB REGIONAL MEDICAL CENTER             0.850916                         \n",
       "3 CRESTWOOD MEDICAL CENTER                   0.850916                         \n",
       "4 FORT DEFIANCE INDIAN HOSPITAL              0.850916                         \n",
       "5 TUBA CITY REGIONAL HEALTH CARE CORPORATION 0.850916                         \n",
       "6 CHINLE COMPREHENSIVE HEALTH CARE FACILITY  0.850916                         \n",
       "  MORT.30.AMI.Benchmark MORT.30.AMI.Baseline.Rate MORT.30.AMI.Performance.Rate\n",
       "1 0.873053              0.836946                  0.857280                    \n",
       "2 0.873053              0.840641                  0.842346                    \n",
       "3 0.873053              0.868536                  0.874347                    \n",
       "4 0.873053              0.850559                  0.863356                    \n",
       "5 0.873053              0.853278                  0.864334                    \n",
       "6 0.873053              0.857041                  0.868165                    "
      ]
     },
     "metadata": {},
     "output_type": "display_data"
    }
   ],
   "source": [
    "# Example data\n",
    "head(cms[c(\"Hospital.Name\", \"MORT.30.AMI.Achievement.Threshold\", \"MORT.30.AMI.Benchmark\", \n",
    "    \"MORT.30.AMI.Baseline.Rate\", \"MORT.30.AMI.Performance.Rate\")])"
   ]
  },
  {
   "cell_type": "markdown",
   "metadata": {},
   "source": [
    "(Note: In CMS reporting, Mortality Rate reflects the number of survivors per patient, not deaths, so a higher rate reflects more positive patient outcomes.)\n",
    "___"
   ]
  },
  {
   "cell_type": "markdown",
   "metadata": {},
   "source": [
    "### Analysis 1 – Mortality Rate Correlation:\n",
    "The first thing I was interested in was whether the mortality rates for the different conditions were correlated. That is, for a given hospital, if the mortality rate for (i.e.) Acute Myocardial Infarction was low, was there a tendency for the mortality rate for (i.e.) Pneumonia to be low as well. Since I was dealing with 3 different rates, the most appropriate way to visualize all of the relationships at once is with a pairwise plot:"
   ]
  },
  {
   "cell_type": "code",
   "execution_count": 73,
   "metadata": {},
   "outputs": [
    {
     "name": "stderr",
     "output_type": "stream",
     "text": [
      "Found a plot already named: 'pairwise'. Since fileopt='overwrite', I'll try to update it\n"
     ]
    },
    {
     "data": {},
     "metadata": {},
     "output_type": "display_data"
    }
   ],
   "source": [
    "# Pairwise plot\n",
    "api_create(cms %>% plot_ly(width = 700, height = 600, marker = list(color = \"rgba(0,0,0,0.25)\", \n",
    "    line = list(color = \"rgba(17, 157, 255, 0.5)\", width = 1))) %>% add_trace(type = \"splom\", \n",
    "    dimensions = list(list(label = \"AMI\", values = ~MORT.30.AMI.Performance.Rate), \n",
    "        list(label = \"HF\", values = ~MORT.30.HF.Performance.Rate), list(label = \"PN\", \n",
    "            values = ~MORT.30.PN.Performance.Rate)), diagonal = list(visible = FALSE)) %>% \n",
    "    layout(title = \"Mortality Rate Correlation\", margin = list(l = 70, r = 50, b = 70, \n",
    "        t = 50)), filename = \"pairwise\")"
   ]
  },
  {
   "cell_type": "markdown",
   "metadata": {},
   "source": [
    "<div>\n",
    "    <a href=\"https://plot.ly/~djzero/0/?share_key=6rTI6X7CgtJ4wejb9AW0zI\" target=\"_blank\" title=\"pairwise\" style=\"display: block; text-align: center;\"><img src=\"https://plot.ly/~djzero/0.png?share_key=6rTI6X7CgtJ4wejb9AW0zI\" alt=\"pairwise\" style=\"max-width: 100%;width: 700px;\"  width=\"700\" onerror=\"this.onerror=null;this.src='https://plot.ly/404.png';\" /></a>\n",
    "    <script data-plotly=\"djzero:0\" sharekey-plotly=\"6rTI6X7CgtJ4wejb9AW0zI\" src=\"https://plot.ly/embed.js\" async></script>\n",
    "</div>"
   ]
  },
  {
   "cell_type": "markdown",
   "metadata": {},
   "source": [
    "Based on the lack of linearity in any of the plots, there appears to be no linear correlation between any one mortality rate with any other. This is reinforced by looking at the correlation rates, which show that no combination of mortality rates has a correlation higher than 37%:"
   ]
  },
  {
   "cell_type": "code",
   "execution_count": 75,
   "metadata": {},
   "outputs": [
    {
     "data": {
      "text/html": [
       "<table>\n",
       "<thead><tr><th></th><th scope=col>MORT.30.AMI.Performance.Rate</th><th scope=col>MORT.30.HF.Performance.Rate</th><th scope=col>MORT.30.PN.Performance.Rate</th></tr></thead>\n",
       "<tbody>\n",
       "\t<tr><th scope=row>MORT.30.AMI.Performance.Rate</th><td>1.0000000</td><td>0.3029107</td><td>0.2930978</td></tr>\n",
       "\t<tr><th scope=row>MORT.30.HF.Performance.Rate</th><td>0.3029107</td><td>1.0000000</td><td>0.3698133</td></tr>\n",
       "\t<tr><th scope=row>MORT.30.PN.Performance.Rate</th><td>0.2930978</td><td>0.3698133</td><td>1.0000000</td></tr>\n",
       "</tbody>\n",
       "</table>\n"
      ],
      "text/latex": [
       "\\begin{tabular}{r|lll}\n",
       "  & MORT.30.AMI.Performance.Rate & MORT.30.HF.Performance.Rate & MORT.30.PN.Performance.Rate\\\\\n",
       "\\hline\n",
       "\tMORT.30.AMI.Performance.Rate & 1.0000000 & 0.3029107 & 0.2930978\\\\\n",
       "\tMORT.30.HF.Performance.Rate & 0.3029107 & 1.0000000 & 0.3698133\\\\\n",
       "\tMORT.30.PN.Performance.Rate & 0.2930978 & 0.3698133 & 1.0000000\\\\\n",
       "\\end{tabular}\n"
      ],
      "text/markdown": [
       "\n",
       "| <!--/--> | MORT.30.AMI.Performance.Rate | MORT.30.HF.Performance.Rate | MORT.30.PN.Performance.Rate | \n",
       "|---|---|---|\n",
       "| MORT.30.AMI.Performance.Rate | 1.0000000 | 0.3029107 | 0.2930978 | \n",
       "| MORT.30.HF.Performance.Rate | 0.3029107 | 1.0000000 | 0.3698133 | \n",
       "| MORT.30.PN.Performance.Rate | 0.2930978 | 0.3698133 | 1.0000000 | \n",
       "\n",
       "\n"
      ],
      "text/plain": [
       "                             MORT.30.AMI.Performance.Rate\n",
       "MORT.30.AMI.Performance.Rate 1.0000000                   \n",
       "MORT.30.HF.Performance.Rate  0.3029107                   \n",
       "MORT.30.PN.Performance.Rate  0.2930978                   \n",
       "                             MORT.30.HF.Performance.Rate\n",
       "MORT.30.AMI.Performance.Rate 0.3029107                  \n",
       "MORT.30.HF.Performance.Rate  1.0000000                  \n",
       "MORT.30.PN.Performance.Rate  0.3698133                  \n",
       "                             MORT.30.PN.Performance.Rate\n",
       "MORT.30.AMI.Performance.Rate 0.2930978                  \n",
       "MORT.30.HF.Performance.Rate  0.3698133                  \n",
       "MORT.30.PN.Performance.Rate  1.0000000                  "
      ]
     },
     "metadata": {},
     "output_type": "display_data"
    }
   ],
   "source": [
    "# Correlation rates\n",
    "cor(cms[c(\"MORT.30.AMI.Performance.Rate\", \"MORT.30.HF.Performance.Rate\", \"MORT.30.PN.Performance.Rate\")], \n",
    "    use = \"complete.obs\")"
   ]
  },
  {
   "cell_type": "markdown",
   "metadata": {},
   "source": [
    "While there does not appear to be a correlation between rates, we can observe from the plot that the mortality rate for Pneumonia appears to be more favorable than for the other two conditions. \n",
    "___"
   ]
  },
  {
   "cell_type": "markdown",
   "metadata": {},
   "source": [
    "###  2 – Distribution of Mortality Rates\n",
    "Stemming from the analysis on the correlation of different mortality rates, I’m interested in looking at their distribution and validating the observation that the mortality rate for Pneumonia is more favorable than the other two conditions. A boxplot is the best way to visualize this:"
   ]
  },
  {
   "cell_type": "code",
   "execution_count": 76,
   "metadata": {},
   "outputs": [
    {
     "data": {},
     "metadata": {},
     "output_type": "display_data"
    }
   ],
   "source": [
    "# Boxplots\n",
    "api_create(stack(cms[c(\"MORT.30.AMI.Performance.Rate\", \"MORT.30.HF.Performance.Rate\", \"MORT.30.PN.Performance.Rate\")]) %>% \n",
    "    plot_ly(y = ~values, x = ~ind, type = \"box\", width = 800, height = 600) %>% layout(title = \"Mortality Rate Distribution\", \n",
    "    margin = list(l = 70, r = 50, b = 70, t = 50), xaxis = list(title = \"\")), filename = \"box\")"
   ]
  },
  {
   "cell_type": "markdown",
   "metadata": {},
   "source": [
    "<div>\n",
    "    <a href=\"https://plot.ly/~djzero/2/?share_key=l1LEMNca5KsVdKcLNxq97T\" target=\"_blank\" title=\"box\" style=\"display: block; text-align: center;\"><img src=\"https://plot.ly/~djzero/2.png?share_key=l1LEMNca5KsVdKcLNxq97T\" alt=\"box\" style=\"max-width: 100%;width: 800px;\"  width=\"800\" onerror=\"this.onerror=null;this.src='https://plot.ly/404.png';\" /></a>\n",
    "    <script data-plotly=\"djzero:2\" sharekey-plotly=\"l1LEMNca5KsVdKcLNxq97T\" src=\"https://plot.ly/embed.js\" async></script>\n",
    "</div>"
   ]
  },
  {
   "cell_type": "markdown",
   "metadata": {},
   "source": [
    "We can see from the outliers that in certain hospitals, the mortality rate associated with Heart Failure is more favorable than the other two conditions, and that in other hospitals, the mortality rate associated with Pneumonia is less favorable than the other two conditions, however on average, Pneumonia is the condition that is least likely to result in patient death. For AMI and Heart Failure, the mean is roughly equidistant from the min and max values, suggesting a normal distribution.  For Pneumonia, the extreme outliers at the low end of the range suggest a left-skewed distribution. Histograms of the 3 distributions can serve to validate this observation:"
   ]
  },
  {
   "cell_type": "code",
   "execution_count": 79,
   "metadata": {},
   "outputs": [
    {
     "data": {},
     "metadata": {},
     "output_type": "display_data"
    }
   ],
   "source": [
    "# Histograms\n",
    "ami <- cms %>% plot_ly(x = ~MORT.30.AMI.Performance.Rate, type = \"histogram\") %>% layout(annotations = list(text = \"MORT.30.AMI.Performance.Rate\", \n",
    "    xref = \"paper\", yref = \"paper\", yanchor = \"bottom\", xanchor = \"center\", align = \"center\", \n",
    "    x = 0.5, y = 1, showarrow = FALSE))\n",
    "hf <- cms %>% plot_ly(x = ~MORT.30.HF.Performance.Rate, type = \"histogram\") %>% layout(annotations = list(text = \"MORT.30.HF.Performance.Rate\", \n",
    "    xref = \"paper\", yref = \"paper\", yanchor = \"bottom\", xanchor = \"center\", align = \"center\", \n",
    "    x = 0.5, y = 1, showarrow = FALSE))\n",
    "pn <- cms %>% plot_ly(x = ~MORT.30.PN.Performance.Rate, type = \"histogram\") %>% layout(annotations = list(text = \"MORT.30.PN.Performance.Rate\", \n",
    "    xref = \"paper\", yref = \"paper\", yanchor = \"bottom\", xanchor = \"center\", align = \"center\", \n",
    "    x = 0.5, y = 1, showarrow = FALSE))\n",
    "api_create(subplot(ami, hf, pn) %>% layout(title = \"Mortality Rate Distributions\", showlegend = F, \n",
    "    margin = list(l = 50, r = 50, b = 50, t = 70)), filename = \"histograms\")"
   ]
  },
  {
   "cell_type": "markdown",
   "metadata": {},
   "source": [
    "<div>\n",
    "    <a href=\"https://plot.ly/~djzero/4/?share_key=NjccH5w0SymegP5AnEA5Zx\" target=\"_blank\" title=\"histograms\" style=\"display: block; text-align: center;\"><img src=\"https://plot.ly/~djzero/4.png?share_key=NjccH5w0SymegP5AnEA5Zx\" alt=\"histograms\" style=\"max-width: 100%;width: 600px;\"  width=\"600\" onerror=\"this.onerror=null;this.src='https://plot.ly/404.png';\" /></a>\n",
    "    <script data-plotly=\"djzero:4\" sharekey-plotly=\"NjccH5w0SymegP5AnEA5Zx\" src=\"https://plot.ly/embed.js\" async></script>\n",
    "</div>"
   ]
  },
  {
   "cell_type": "markdown",
   "metadata": {},
   "source": [
    "___"
   ]
  },
  {
   "cell_type": "markdown",
   "metadata": {},
   "source": [
    "### Analysis 3 – Mortality Rates by State\n",
    "Now that I’ve established some understanding of the differences in mortality rate for each condition, I’m interested in seeing the differences by state. For this, the most appropriate visualization is a bar plot:"
   ]
  },
  {
   "cell_type": "code",
   "execution_count": 138,
   "metadata": {},
   "outputs": [
    {
     "data": {},
     "metadata": {},
     "output_type": "display_data"
    }
   ],
   "source": [
    "# Bar plot\n",
    "statemean <- tapply(cms$MORT.30.AMI.Performance.Rate, list(cms$State), mean, na.rm = T)\n",
    "stateheadtail <- c(head(sort(statemean), 10), tail(sort(statemean), 10))\n",
    "statedf <- data.frame(State = names(stateheadtail), AvgAMIMort = stateheadtail)\n",
    "statedf$State <- factor(statedf$State, levels = c(as.character(statedf$State)))\n",
    "api_create(plot_ly(statedf, x = ~AvgAMIMort, y = ~State, type = \"bar\", width = 800, \n",
    "    height = 600) %>% layout(xaxis = list(range = c(0.84, 0.88)), title = \"AMI Mortality Rate by State, Top/Bottom 10\", \n",
    "    margin = list(l = 50, r = 50, b = 50, t = 70)), filename = \"barplot\")"
   ]
  },
  {
   "cell_type": "markdown",
   "metadata": {},
   "source": [
    "<div>\n",
    "    <a href=\"https://plot.ly/~djzero/6/?share_key=YhgdqGD4OihWmKqSYZTzom\" target=\"_blank\" title=\"barplot\" style=\"display: block; text-align: center;\"><img src=\"https://plot.ly/~djzero/6.png?share_key=YhgdqGD4OihWmKqSYZTzom\" alt=\"barplot\" style=\"max-width: 100%;width: 800px;\"  width=\"800\" onerror=\"this.onerror=null;this.src='https://plot.ly/404.png';\" /></a>\n",
    "    <script data-plotly=\"djzero:6\" sharekey-plotly=\"YhgdqGD4OihWmKqSYZTzom\" src=\"https://plot.ly/embed.js\" async></script>\n",
    "</div>"
   ]
  },
  {
   "cell_type": "markdown",
   "metadata": {},
   "source": [
    "The plot focuses on the mortality rate for Acute Myocardial Infarction as that is the most deadly condition. The results are somewhat in line with my preconceived notions that southern states would have less favorable mortality rates, as there are 4 in the bottom 10 (AR, MS, AL, TN) and none in the top 10, however I was surprised to see Washington in the bottom 10 as well. It was also interesting to observe that South Dakota was in the top 10 while North Dakota was in the bottom 10. With almost a point more favorable mortality rate than its nearest competitor, Rhode Island is statistically the best state in which to survive a heart attack.\n",
    "___"
   ]
  },
  {
   "cell_type": "markdown",
   "metadata": {},
   "source": [
    "### Analysis 4 – Distribution of Performance against Achievement, Benchmark, Baseline \n",
    "The mortality rates measured in the current period (‘Performance Rate’) are a means to an end; the hospitals are ultimately judged on how those rates compare to the Achievement Threshold, Benchmark Rate and Baseline Rate. I am interested in seeing the distribution of that comparison, again focusing on Acute Myocardial Infarction. In order to obtain a summary view, I assign a single string value denoting the performance against each. A pie plot can then be used to show the number of hospitals that fall into each summary bucket:\n"
   ]
  },
  {
   "cell_type": "code",
   "execution_count": 139,
   "metadata": {},
   "outputs": [
    {
     "data": {},
     "metadata": {},
     "output_type": "display_data"
    }
   ],
   "source": [
    "# Pie chart\n",
    "comparison <- function(ach, bench, base, perf) {\n",
    "    if (is.na(perf) | is.na(base) | is.na(ach) | is.na(bench)) \n",
    "        return(NA) else {\n",
    "        if (perf - base > 0) {\n",
    "            ba <- \"H\"\n",
    "        } else if (perf - base < 0) {\n",
    "            ba <- \"L\"\n",
    "        } else {\n",
    "            ba <- \"S\"\n",
    "        }\n",
    "        if (perf - ach > 0) {\n",
    "            a <- \"H\"\n",
    "        } else if (perf - ach < 0) {\n",
    "            a <- \"L\"\n",
    "        } else {\n",
    "            a <- \"S\"\n",
    "        }\n",
    "        if (perf - bench > 0) {\n",
    "            be <- \"H\"\n",
    "        } else if (perf - bench < 0) {\n",
    "            be <- \"L\"\n",
    "        } else {\n",
    "            be <- \"S\"\n",
    "        }\n",
    "        return(paste(\"Base:\", ba, \" Achmnt:\", a, \" Bench:\", be, sep = \"\"))\n",
    "    }\n",
    "}\n",
    "cms$AMIComp <- mapply(comparison, cms$MORT.30.AMI.Achievement.Threshold, cms$MORT.30.AMI.Benchmark, \n",
    "    cms$MORT.30.AMI.Baseline.Rate, cms$MORT.30.AMI.Performance.Rate)\n",
    "api_create(plot_ly(stack(data.frame(rbind(table(cms$AMIComp)))), labels = ~ind, values = ~values, \n",
    "    type = \"pie\", width = 800, height = 600) %>% layout(title = \"Distribution of Performance Comparison\", \n",
    "    margin = list(l = 50, r = 50, b = 50, t = 70)), filename='pie')"
   ]
  },
  {
   "cell_type": "markdown",
   "metadata": {},
   "source": [
    "<div>\n",
    "    <a href=\"https://plot.ly/~djzero/8/?share_key=uOGjop6BDSXXG9zguRznIV\" target=\"_blank\" title=\"pie\" style=\"display: block; text-align: center;\"><img src=\"https://plot.ly/~djzero/8.png?share_key=uOGjop6BDSXXG9zguRznIV\" alt=\"pie\" style=\"max-width: 100%;width: 800px;\"  width=\"800\" onerror=\"this.onerror=null;this.src='https://plot.ly/404.png';\" /></a>\n",
    "    <script data-plotly=\"djzero:8\" sharekey-plotly=\"uOGjop6BDSXXG9zguRznIV\" src=\"https://plot.ly/embed.js\" async></script>\n",
    "</div>"
   ]
  },
  {
   "cell_type": "markdown",
   "metadata": {},
   "source": [
    "Since the Achievement Threshold was determined "
   ]
  }
 ],
 "metadata": {
  "kernelspec": {
   "display_name": "R",
   "language": "R",
   "name": "ir"
  },
  "language_info": {
   "codemirror_mode": "r",
   "file_extension": ".r",
   "mimetype": "text/x-r-source",
   "name": "R",
   "pygments_lexer": "r",
   "version": "3.5.1"
  }
 },
 "nbformat": 4,
 "nbformat_minor": 2
}
